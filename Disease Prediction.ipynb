{
 "cells": [
  {
   "cell_type": "code",
   "execution_count": 51,
   "id": "9ad24e19-c19f-4d06-9f37-b10de4b4debb",
   "metadata": {},
   "outputs": [
    {
     "name": "stdout",
     "output_type": "stream",
     "text": [
      "1.0\n",
      "model and label saved\n"
     ]
    }
   ],
   "source": [
    "import pandas as pd\n",
    "from sklearn.model_selection import train_test_split\n",
    "from sklearn.preprocessing import LabelEncoder\n",
    "from sklearn.ensemble import RandomForestClassifier\n",
    "from sklearn.metrics import accuracy_score\n",
    "import joblib\n",
    "\n",
    "data = pd.read_csv('Dataset.csv')\n",
    "X = data.iloc[:, :-1]  \n",
    "y = data.iloc[:, -1]\n",
    "label_encoder = LabelEncoder()\n",
    "y_encoded = label_encoder.fit_transform(y)\n",
    "\n",
    "X_train, X_test, y_train, y_test = train_test_split(X, y_encoded, test_size=0.3, random_state=1)\n",
    "\n",
    "model = RandomForestClassifier(random_state=1)\n",
    "model.fit(X_train, y_train)\n",
    "\n",
    "y_pred = model.predict(X_test)\n",
    "accuracy = accuracy_score(y_test, y_pred)\n",
    "print(accuracy)\n",
    "joblib.dump(model, 'trained_model.joblib')\n",
    "joblib.dump(label_encoder, 'label_encoder.joblib')\n",
    "print(\"model and label saved\")"
   ]
  },
  {
   "cell_type": "code",
   "execution_count": 47,
   "id": "3a35ad47-e726-46d9-acea-93fa4e9ce05e",
   "metadata": {},
   "outputs": [],
   "source": [
    "model = joblib.load('trained_model.joblib')\n",
    "label_encoder = joblib.load('label_encoder.joblib')\n",
    "  \n",
    "def predict_disease(symptom_string):\n",
    "    input_symptoms = [s.strip().lower() for s in symptom_string.split(',')]\n",
    "    symptom_list = [1 if symptom.lower() in input_symptoms else 0 for symptom in X.columns]\n",
    "    input_data = pd.DataFrame([symptom_list], columns=X.columns)\n",
    "    prediction = model.predict(input_data)\n",
    "    predicted_disease = label_encoder.inverse_transform(prediction)[0]\n",
    "    return predicted_disease\n",
    "\n",
    "def get_user_symptoms():\n",
    "    print(\"Please enter your symptoms separated by commas :\")\n",
    "    symptom_string = input(\"Symptoms: \")\n",
    "    return symptom_string"
   ]
  },
  {
   "cell_type": "code",
   "execution_count": 55,
   "id": "d2ebc297-7f44-4214-a877-98ddcf770481",
   "metadata": {},
   "outputs": [
    {
     "name": "stdout",
     "output_type": "stream",
     "text": [
      "Please enter your symptoms separated by commas :\n"
     ]
    },
    {
     "name": "stdin",
     "output_type": "stream",
     "text": [
      "Symptoms:  high_fever,muscle_pain,headache,red_spots_over_body\n"
     ]
    },
    {
     "name": "stdout",
     "output_type": "stream",
     "text": [
      "Predicted Disease:  Malaria\n"
     ]
    }
   ],
   "source": [
    "user_symptoms = get_user_symptoms()\n",
    "predicted_disease = predict_disease(user_symptoms)\n",
    "print(\"Predicted Disease: \",predicted_disease)"
   ]
  },
  {
   "cell_type": "code",
   "execution_count": null,
   "id": "820fac7e-9fb5-4900-becf-a8d2546d4181",
   "metadata": {},
   "outputs": [],
   "source": []
  }
 ],
 "metadata": {
  "kernelspec": {
   "display_name": "Python 3 (ipykernel)",
   "language": "python",
   "name": "python3"
  },
  "language_info": {
   "codemirror_mode": {
    "name": "ipython",
    "version": 3
   },
   "file_extension": ".py",
   "mimetype": "text/x-python",
   "name": "python",
   "nbconvert_exporter": "python",
   "pygments_lexer": "ipython3",
   "version": "3.10.11"
  }
 },
 "nbformat": 4,
 "nbformat_minor": 5
}
